{
 "cells": [
  {
   "cell_type": "code",
   "execution_count": 38,
   "id": "a9eda01b-83b5-4023-89d8-1a78d1a8b0f0",
   "metadata": {},
   "outputs": [],
   "source": [
    "# importar as bibliotecas\n",
    "import pandas as pd\n",
    "import seaborn as srn\n",
    "import statistics as sts"
   ]
  },
  {
   "cell_type": "code",
   "execution_count": 8,
   "id": "673d7397-858f-49c8-b3d5-19c8696fa4e5",
   "metadata": {},
   "outputs": [],
   "source": [
    "df = pd.read_csv('jogadores.csv')"
   ]
  },
  {
   "cell_type": "code",
   "execution_count": 9,
   "id": "4c473912-fbf6-47ec-80a9-9c0f50d7c1b4",
   "metadata": {},
   "outputs": [
    {
     "data": {
      "text/plain": [
       "(1000, 6)"
      ]
     },
     "execution_count": 9,
     "metadata": {},
     "output_type": "execute_result"
    }
   ],
   "source": [
    "df.shape"
   ]
  },
  {
   "cell_type": "code",
   "execution_count": 10,
   "id": "14f92ad5-6e39-41b5-baa4-e4269bcc99eb",
   "metadata": {},
   "outputs": [
    {
     "data": {
      "text/html": [
       "<div>\n",
       "<style scoped>\n",
       "    .dataframe tbody tr th:only-of-type {\n",
       "        vertical-align: middle;\n",
       "    }\n",
       "\n",
       "    .dataframe tbody tr th {\n",
       "        vertical-align: top;\n",
       "    }\n",
       "\n",
       "    .dataframe thead th {\n",
       "        text-align: right;\n",
       "    }\n",
       "</style>\n",
       "<table border=\"1\" class=\"dataframe\">\n",
       "  <thead>\n",
       "    <tr style=\"text-align: right;\">\n",
       "      <th></th>\n",
       "      <th>id</th>\n",
       "      <th>score</th>\n",
       "      <th>nivel</th>\n",
       "      <th>categoria</th>\n",
       "      <th>idade</th>\n",
       "      <th>pais</th>\n",
       "    </tr>\n",
       "  </thead>\n",
       "  <tbody>\n",
       "    <tr>\n",
       "      <th>0</th>\n",
       "      <td>1</td>\n",
       "      <td>321057.0</td>\n",
       "      <td>321.0</td>\n",
       "      <td>elfo</td>\n",
       "      <td>43.0</td>\n",
       "      <td>United States</td>\n",
       "    </tr>\n",
       "    <tr>\n",
       "      <th>1</th>\n",
       "      <td>2</td>\n",
       "      <td>495527.0</td>\n",
       "      <td>466.0</td>\n",
       "      <td>mago</td>\n",
       "      <td>16.0</td>\n",
       "      <td>Canada</td>\n",
       "    </tr>\n",
       "    <tr>\n",
       "      <th>2</th>\n",
       "      <td>3</td>\n",
       "      <td>700848.0</td>\n",
       "      <td>255.0</td>\n",
       "      <td>NaN</td>\n",
       "      <td>54.0</td>\n",
       "      <td>United States</td>\n",
       "    </tr>\n",
       "    <tr>\n",
       "      <th>3</th>\n",
       "      <td>4</td>\n",
       "      <td>985558.0</td>\n",
       "      <td>679.0</td>\n",
       "      <td>mago</td>\n",
       "      <td>87.0</td>\n",
       "      <td>Brazil</td>\n",
       "    </tr>\n",
       "    <tr>\n",
       "      <th>4</th>\n",
       "      <td>5</td>\n",
       "      <td>517633.0</td>\n",
       "      <td>752.0</td>\n",
       "      <td>guerreiro</td>\n",
       "      <td>69.0</td>\n",
       "      <td>Japan</td>\n",
       "    </tr>\n",
       "  </tbody>\n",
       "</table>\n",
       "</div>"
      ],
      "text/plain": [
       "   id     score  nivel  categoria  idade           pais\n",
       "0   1  321057.0  321.0       elfo   43.0  United States\n",
       "1   2  495527.0  466.0       mago   16.0         Canada\n",
       "2   3  700848.0  255.0        NaN   54.0  United States\n",
       "3   4  985558.0  679.0       mago   87.0         Brazil\n",
       "4   5  517633.0  752.0  guerreiro   69.0          Japan"
      ]
     },
     "execution_count": 10,
     "metadata": {},
     "output_type": "execute_result"
    }
   ],
   "source": [
    "df.head()"
   ]
  },
  {
   "cell_type": "code",
   "execution_count": 11,
   "id": "4e18a2c1-fdc3-47cd-95ba-67ba854cbb19",
   "metadata": {},
   "outputs": [
    {
     "data": {
      "text/html": [
       "<div>\n",
       "<style scoped>\n",
       "    .dataframe tbody tr th:only-of-type {\n",
       "        vertical-align: middle;\n",
       "    }\n",
       "\n",
       "    .dataframe tbody tr th {\n",
       "        vertical-align: top;\n",
       "    }\n",
       "\n",
       "    .dataframe thead th {\n",
       "        text-align: right;\n",
       "    }\n",
       "</style>\n",
       "<table border=\"1\" class=\"dataframe\">\n",
       "  <thead>\n",
       "    <tr style=\"text-align: right;\">\n",
       "      <th></th>\n",
       "      <th>id</th>\n",
       "      <th>score</th>\n",
       "      <th>nivel</th>\n",
       "      <th>categoria</th>\n",
       "      <th>idade</th>\n",
       "      <th>pais</th>\n",
       "    </tr>\n",
       "  </thead>\n",
       "  <tbody>\n",
       "    <tr>\n",
       "      <th>995</th>\n",
       "      <td>996</td>\n",
       "      <td>146132.0</td>\n",
       "      <td>417.0</td>\n",
       "      <td>elfo</td>\n",
       "      <td>78.0</td>\n",
       "      <td>Japan</td>\n",
       "    </tr>\n",
       "    <tr>\n",
       "      <th>996</th>\n",
       "      <td>997</td>\n",
       "      <td>845482.0</td>\n",
       "      <td>588.0</td>\n",
       "      <td>orc</td>\n",
       "      <td>69.0</td>\n",
       "      <td>Portugal</td>\n",
       "    </tr>\n",
       "    <tr>\n",
       "      <th>997</th>\n",
       "      <td>998</td>\n",
       "      <td>230131.0</td>\n",
       "      <td>660.0</td>\n",
       "      <td>mago</td>\n",
       "      <td>57.0</td>\n",
       "      <td>Japan</td>\n",
       "    </tr>\n",
       "    <tr>\n",
       "      <th>998</th>\n",
       "      <td>999</td>\n",
       "      <td>635044.0</td>\n",
       "      <td>731.0</td>\n",
       "      <td>orc</td>\n",
       "      <td>17.0</td>\n",
       "      <td>Brazil</td>\n",
       "    </tr>\n",
       "    <tr>\n",
       "      <th>999</th>\n",
       "      <td>1000</td>\n",
       "      <td>317887.0</td>\n",
       "      <td>477.0</td>\n",
       "      <td>orc</td>\n",
       "      <td>64.0</td>\n",
       "      <td>Brazil</td>\n",
       "    </tr>\n",
       "  </tbody>\n",
       "</table>\n",
       "</div>"
      ],
      "text/plain": [
       "       id     score  nivel categoria  idade      pais\n",
       "995   996  146132.0  417.0      elfo   78.0     Japan\n",
       "996   997  845482.0  588.0       orc   69.0  Portugal\n",
       "997   998  230131.0  660.0      mago   57.0     Japan\n",
       "998   999  635044.0  731.0       orc   17.0    Brazil\n",
       "999  1000  317887.0  477.0       orc   64.0    Brazil"
      ]
     },
     "execution_count": 11,
     "metadata": {},
     "output_type": "execute_result"
    }
   ],
   "source": [
    "df.tail()"
   ]
  },
  {
   "cell_type": "code",
   "execution_count": 12,
   "id": "66733394-a625-4459-b46a-12f1d8134fac",
   "metadata": {},
   "outputs": [
    {
     "data": {
      "text/plain": [
       "score\n",
       "-464.0       1\n",
       " 884.0       1\n",
       " 2283.0      1\n",
       " 3000.0      1\n",
       " 4921.0      1\n",
       "            ..\n",
       " 994895.0    1\n",
       " 996542.0    1\n",
       " 996957.0    1\n",
       " 997104.0    1\n",
       " 998871.0    1\n",
       "Length: 997, dtype: int64"
      ]
     },
     "execution_count": 12,
     "metadata": {},
     "output_type": "execute_result"
    }
   ],
   "source": [
    "df_score = df.groupby(['score']).size()\n",
    "df_score"
   ]
  },
  {
   "cell_type": "code",
   "execution_count": 42,
   "id": "e93556b9-cb24-447f-83e0-3e9300b752aa",
   "metadata": {},
   "outputs": [
    {
     "data": {
      "text/plain": [
       "<Axes: xlabel='score'>"
      ]
     },
     "execution_count": 42,
     "metadata": {},
     "output_type": "execute_result"
    },
    {
     "data": {
      "image/png": "[encoded data removed]",
      "text/plain": [
       "<Figure size 640x480 with 1 Axes>"
      ]
     },
     "metadata": {},
     "output_type": "display_data"
    }
   ],
   "source": [
    "df_score.plot.bar(color='purple')"
   ]
  },
  {
   "cell_type": "code",
   "execution_count": 43,
   "id": "6fb87e97-163b-4f73-ab42-bfffd22a5dfe",
   "metadata": {},
   "outputs": [
    {
     "data": {
      "text/plain": [
       "nivel\n",
       "-516.0     1\n",
       "-103.0     1\n",
       " 1.0       1\n",
       " 2.0       1\n",
       " 3.0       3\n",
       "          ..\n",
       " 996.0     1\n",
       " 997.0     2\n",
       " 998.0     1\n",
       " 999.0     2\n",
       " 1000.0    1\n",
       "Length: 619, dtype: int64"
      ]
     },
     "execution_count": 43,
     "metadata": {},
     "output_type": "execute_result"
    }
   ],
   "source": [
    "df_nivel = df.groupby(['nivel']).size()\n",
    "df_nivel"
   ]
  },
  {
   "cell_type": "code",
   "execution_count": 44,
   "id": "05dad6f8-015c-4b44-b32d-4c1af01f72d3",
   "metadata": {},
   "outputs": [
    {
     "data": {
      "text/plain": [
       "<Axes: xlabel='nivel'>"
      ]
     },
     "execution_count": 44,
     "metadata": {},
     "output_type": "execute_result"
    },
    {
     "data": {
      "image/png": "[encoded data removed]",
      "text/plain": [
       "<Figure size 640x480 with 1 Axes>"
      ]
     },
     "metadata": {},
     "output_type": "display_data"
    }
   ],
   "source": [
    "df_nivel.plot.bar(color='pink')"
   ]
  },
  {
   "cell_type": "code",
   "execution_count": 45,
   "id": "0d87cb18-2311-405d-8d2a-efe78bb2fbf1",
   "metadata": {},
   "outputs": [
    {
     "data": {
      "text/plain": [
       "categoria\n",
       "elfo         238\n",
       "guerreiro    242\n",
       "m@go           1\n",
       "mago         275\n",
       "orc          241\n",
       "dtype: int64"
      ]
     },
     "execution_count": 45,
     "metadata": {},
     "output_type": "execute_result"
    }
   ],
   "source": [
    "df_categoria = df.groupby(['categoria']).size()\n",
    "df_categoria"
   ]
  },
  {
   "cell_type": "code",
   "execution_count": 46,
   "id": "5fbb135d-374f-4ab2-bc5d-01d23176af6f",
   "metadata": {},
   "outputs": [
    {
     "data": {
      "text/plain": [
       "<Axes: xlabel='categoria'>"
      ]
     },
     "execution_count": 46,
     "metadata": {},
     "output_type": "execute_result"
    },
    {
     "data": {
      "image/png": "[encoded data removed]",
      "text/plain": [
       "<Figure size 640x480 with 1 Axes>"
      ]
     },
     "metadata": {},
     "output_type": "display_data"
    }
   ],
   "source": [
    "df_categoria.plot.bar(color='green')"
   ]
  },
  {
   "cell_type": "code",
   "execution_count": 47,
   "id": "e66ead2e-d826-4e60-a3d0-191bcd63a8ce",
   "metadata": {},
   "outputs": [
    {
     "data": {
      "text/plain": [
       "idade\n",
       "12.0      4\n",
       "13.0      8\n",
       "14.0      9\n",
       "15.0     10\n",
       "16.0      9\n",
       "         ..\n",
       "98.0     12\n",
       "99.0     13\n",
       "100.0     8\n",
       "125.0     1\n",
       "133.0     1\n",
       "Length: 91, dtype: int64"
      ]
     },
     "execution_count": 47,
     "metadata": {},
     "output_type": "execute_result"
    }
   ],
   "source": [
    "df_idade = df.groupby(['idade']).size()\n",
    "df_idade"
   ]
  },
  {
   "cell_type": "code",
   "execution_count": 48,
   "id": "8513a007-2e41-47ef-8f25-86a99376586c",
   "metadata": {},
   "outputs": [
    {
     "data": {
      "text/plain": [
       "<Axes: xlabel='idade'>"
      ]
     },
     "execution_count": 48,
     "metadata": {},
     "output_type": "execute_result"
    },
    {
     "data": {
      "image/png": "[encoded data removed]",
      "text/plain": [
       "<Figure size 640x480 with 1 Axes>"
      ]
     },
     "metadata": {},
     "output_type": "display_data"
    }
   ],
   "source": [
    "df_idade.plot.bar(color='blue')"
   ]
  },
  {
   "cell_type": "code",
   "execution_count": 49,
   "id": "96a76f57-be4c-4fc4-87b2-c5758bbe73f0",
   "metadata": {},
   "outputs": [
    {
     "data": {
      "text/plain": [
       "pais\n",
       "%apan               1\n",
       "Australia           7\n",
       "Brazil            279\n",
       "C#nada              1\n",
       "Canada             93\n",
       "Italy              10\n",
       "Japan             130\n",
       "Mexico             74\n",
       "Portuga&            1\n",
       "Portugal          222\n",
       "Spain              14\n",
       "United Kingdom     16\n",
       "United States     150\n",
       "dtype: int64"
      ]
     },
     "execution_count": 49,
     "metadata": {},
     "output_type": "execute_result"
    }
   ],
   "source": [
    "df_pais = df.groupby(['pais']).size()\n",
    "df_pais"
   ]
  },
  {
   "cell_type": "code",
   "execution_count": 50,
   "id": "576ae61b-4452-4aa0-9b2a-e93968780942",
   "metadata": {},
   "outputs": [
    {
     "data": {
      "text/plain": [
       "<Axes: xlabel='pais'>"
      ]
     },
     "execution_count": 50,
     "metadata": {},
     "output_type": "execute_result"
    },
    {
     "data": {
      "image/png": "[encoded data removed]",
      "text/plain": [
       "<Figure size 640x480 with 1 Axes>"
      ]
     },
     "metadata": {},
     "output_type": "display_data"
    }
   ],
   "source": [
    "df_pais.plot.bar(color='brown')"
   ]
  },
  {
   "cell_type": "code",
   "execution_count": 51,
   "id": "fa4c83ae-3fdd-44f5-b9e7-318cb89d5a5b",
   "metadata": {},
   "outputs": [
    {
     "data": {
      "text/html": [
       "<div>\n",
       "<style scoped>\n",
       "    .dataframe tbody tr th:only-of-type {\n",
       "        vertical-align: middle;\n",
       "    }\n",
       "\n",
       "    .dataframe tbody tr th {\n",
       "        vertical-align: top;\n",
       "    }\n",
       "\n",
       "    .dataframe thead th {\n",
       "        text-align: right;\n",
       "    }\n",
       "</style>\n",
       "<table border=\"1\" class=\"dataframe\">\n",
       "  <thead>\n",
       "    <tr style=\"text-align: right;\">\n",
       "      <th></th>\n",
       "      <th>id</th>\n",
       "      <th>score</th>\n",
       "      <th>nivel</th>\n",
       "      <th>idade</th>\n",
       "    </tr>\n",
       "  </thead>\n",
       "  <tbody>\n",
       "    <tr>\n",
       "      <th>count</th>\n",
       "      <td>1000.000000</td>\n",
       "      <td>998.000000</td>\n",
       "      <td>998.000000</td>\n",
       "      <td>997.000000</td>\n",
       "    </tr>\n",
       "    <tr>\n",
       "      <th>mean</th>\n",
       "      <td>500.500000</td>\n",
       "      <td>496350.856713</td>\n",
       "      <td>495.098196</td>\n",
       "      <td>56.822467</td>\n",
       "    </tr>\n",
       "    <tr>\n",
       "      <th>std</th>\n",
       "      <td>288.819436</td>\n",
       "      <td>283458.860428</td>\n",
       "      <td>288.395089</td>\n",
       "      <td>25.249907</td>\n",
       "    </tr>\n",
       "    <tr>\n",
       "      <th>min</th>\n",
       "      <td>1.000000</td>\n",
       "      <td>-464.000000</td>\n",
       "      <td>-516.000000</td>\n",
       "      <td>12.000000</td>\n",
       "    </tr>\n",
       "    <tr>\n",
       "      <th>25%</th>\n",
       "      <td>250.750000</td>\n",
       "      <td>259577.250000</td>\n",
       "      <td>247.750000</td>\n",
       "      <td>35.000000</td>\n",
       "    </tr>\n",
       "    <tr>\n",
       "      <th>50%</th>\n",
       "      <td>500.500000</td>\n",
       "      <td>497023.500000</td>\n",
       "      <td>493.500000</td>\n",
       "      <td>59.000000</td>\n",
       "    </tr>\n",
       "    <tr>\n",
       "      <th>75%</th>\n",
       "      <td>750.250000</td>\n",
       "      <td>745172.500000</td>\n",
       "      <td>742.000000</td>\n",
       "      <td>78.000000</td>\n",
       "    </tr>\n",
       "    <tr>\n",
       "      <th>max</th>\n",
       "      <td>1000.000000</td>\n",
       "      <td>998871.000000</td>\n",
       "      <td>1000.000000</td>\n",
       "      <td>133.000000</td>\n",
       "    </tr>\n",
       "  </tbody>\n",
       "</table>\n",
       "</div>"
      ],
      "text/plain": [
       "                id          score        nivel       idade\n",
       "count  1000.000000     998.000000   998.000000  997.000000\n",
       "mean    500.500000  496350.856713   495.098196   56.822467\n",
       "std     288.819436  283458.860428   288.395089   25.249907\n",
       "min       1.000000    -464.000000  -516.000000   12.000000\n",
       "25%     250.750000  259577.250000   247.750000   35.000000\n",
       "50%     500.500000  497023.500000   493.500000   59.000000\n",
       "75%     750.250000  745172.500000   742.000000   78.000000\n",
       "max    1000.000000  998871.000000  1000.000000  133.000000"
      ]
     },
     "execution_count": 51,
     "metadata": {},
     "output_type": "execute_result"
    }
   ],
   "source": [
    "df.describe()"
   ]
  },
  {
   "cell_type": "code",
   "execution_count": 52,
   "id": "f1d63db4-e562-4cc5-8467-cf37e0509205",
   "metadata": {},
   "outputs": [
    {
     "data": {
      "text/plain": [
       "count       998.000000\n",
       "mean     496350.856713\n",
       "std      283458.860428\n",
       "min        -464.000000\n",
       "25%      259577.250000\n",
       "50%      497023.500000\n",
       "75%      745172.500000\n",
       "max      998871.000000\n",
       "Name: score, dtype: float64"
      ]
     },
     "execution_count": 52,
     "metadata": {},
     "output_type": "execute_result"
    }
   ],
   "source": [
    "df['score'].describe()"
   ]
  },
  {
   "cell_type": "code",
   "execution_count": 53,
   "id": "f55b7fc7-bcb0-4949-ab27-8ebef4541f33",
   "metadata": {},
   "outputs": [
    {
     "data": {
      "text/plain": [
       "Text(0.5, 1.0, 'score')"
      ]
     },
     "execution_count": 53,
     "metadata": {},
     "output_type": "execute_result"
    },
    {
     "data": {
      "image/png": "[encoded data removed]",
      "text/plain": [
       "<Figure size 640x480 with 1 Axes>"
      ]
     },
     "metadata": {},
     "output_type": "display_data"
    }
   ],
   "source": [
    "srn.boxplot(df['score']).set_title('score')"
   ]
  },
  {
   "cell_type": "code",
   "execution_count": 2,
   "id": "0357bee5-c868-4071-b9c1-63b6e4f84b6f",
   "metadata": {},
   "outputs": [
    {
     "name": "stdout",
     "output_type": "stream",
     "text": [
      "iq:  485595 \n",
      "lim_inf:  -468815.5 \n",
      "lim_sup:  1473564.5\n"
     ]
    }
   ],
   "source": [
    "q1 = 259577\n",
    "q3 = 745172\n",
    "iq = q3 - q1\n",
    "lim_inf =  q1 - 1.5 * iq\n",
    "lim_sup = q3 + 1.5 * iq\n",
    "\n",
    "print('iq: ', iq, '\\nlim_inf: ', lim_inf, '\\nlim_sup: ', lim_sup)"
   ]
  },
  {
   "cell_type": "code",
   "execution_count": 54,
   "id": "316ba627-64a2-455c-9566-ca7c6e147216",
   "metadata": {},
   "outputs": [
    {
     "data": {
      "text/plain": [
       "Text(0.5, 1.0, 'score')"
      ]
     },
     "execution_count": 54,
     "metadata": {},
     "output_type": "execute_result"
    },
    {
     "data": {
      "image/png": "[encoded data removed]",
      "text/plain": [
       "<Figure size 640x480 with 1 Axes>"
      ]
     },
     "metadata": {},
     "output_type": "display_data"
    }
   ],
   "source": [
    "srn.histplot(df['score']).set_title('score')"
   ]
  },
  {
   "cell_type": "code",
   "execution_count": 33,
   "id": "4bd9c1ff-b620-44f0-9090-a3d1bc5d5897",
   "metadata": {},
   "outputs": [
    {
     "data": {
      "text/plain": [
       "count     998.000000\n",
       "mean      495.098196\n",
       "std       288.395089\n",
       "min      -516.000000\n",
       "25%       247.750000\n",
       "50%       493.500000\n",
       "75%       742.000000\n",
       "max      1000.000000\n",
       "Name: nivel, dtype: float64"
      ]
     },
     "execution_count": 33,
     "metadata": {},
     "output_type": "execute_result"
    }
   ],
   "source": [
    "df['nivel'].describe()"
   ]
  },
  {
   "cell_type": "code",
   "execution_count": 34,
   "id": "ce6fa48a-2fa7-42a4-a72d-1c763973da49",
   "metadata": {},
   "outputs": [
    {
     "data": {
      "text/plain": [
       "Text(0.5, 1.0, 'nivel')"
      ]
     },
     "execution_count": 34,
     "metadata": {},
     "output_type": "execute_result"
    },
    {
     "data": {
      "image/png": "[encoded data removed]",
      "text/plain": [
       "<Figure size 640x480 with 1 Axes>"
      ]
     },
     "metadata": {},
     "output_type": "display_data"
    }
   ],
   "source": [
    "srn.boxplot(df['nivel']).set_title('nivel')"
   ]
  },
  {
   "cell_type": "code",
   "execution_count": 3,
   "id": "92b032d8-1526-45a9-8522-e05c3548289f",
   "metadata": {},
   "outputs": [
    {
     "name": "stdout",
     "output_type": "stream",
     "text": [
      "iq:  500 \n",
      "lim_inf:  -508.0 \n",
      "lim_sup:  1492.0\n"
     ]
    }
   ],
   "source": [
    "q1 = 242\n",
    "q3 =  742\n",
    "iq = q3 - q1\n",
    "lim_inf =  q1 - 1.5 * iq\n",
    "lim_sup = q3 + 1.5 * iq\n",
    "\n",
    "print('iq: ', iq, '\\nlim_inf: ', lim_inf, '\\nlim_sup: ', lim_sup)"
   ]
  },
  {
   "cell_type": "code",
   "execution_count": 35,
   "id": "2ea7078a-1f71-466a-b6eb-4fc135eaf4a5",
   "metadata": {},
   "outputs": [
    {
     "data": {
      "text/plain": [
       "Text(0.5, 1.0, 'nivel')"
      ]
     },
     "execution_count": 35,
     "metadata": {},
     "output_type": "execute_result"
    },
    {
     "data": {
      "image/png": "[encoded data removed]",
      "text/plain": [
       "<Figure size 640x480 with 1 Axes>"
      ]
     },
     "metadata": {},
     "output_type": "display_data"
    }
   ],
   "source": [
    "srn.histplot(df['nivel']).set_title('nivel')"
   ]
  },
  {
   "cell_type": "code",
   "execution_count": 57,
   "id": "d8cc70ee-b48a-4ce6-a213-5674e3ade962",
   "metadata": {},
   "outputs": [
    {
     "data": {
      "text/plain": [
       "count    997.000000\n",
       "mean      56.822467\n",
       "std       25.249907\n",
       "min       12.000000\n",
       "25%       35.000000\n",
       "50%       59.000000\n",
       "75%       78.000000\n",
       "max      133.000000\n",
       "Name: idade, dtype: float64"
      ]
     },
     "execution_count": 57,
     "metadata": {},
     "output_type": "execute_result"
    }
   ],
   "source": [
    "df['idade'].describe()"
   ]
  },
  {
   "cell_type": "code",
   "execution_count": 58,
   "id": "b3d31e4c-d446-4ea6-80b0-700294619206",
   "metadata": {},
   "outputs": [
    {
     "data": {
      "text/plain": [
       "Text(0.5, 1.0, 'idade')"
      ]
     },
     "execution_count": 58,
     "metadata": {},
     "output_type": "execute_result"
    },
    {
     "data": {
      "image/png": "[encoded data removed]",
      "text/plain": [
       "<Figure size 640x480 with 1 Axes>"
      ]
     },
     "metadata": {},
     "output_type": "display_data"
    }
   ],
   "source": [
    "srn.boxplot(df['idade']).set_title('idade')"
   ]
  },
  {
   "cell_type": "code",
   "execution_count": 4,
   "id": "23592565-2075-412d-8739-e168c1514b1d",
   "metadata": {},
   "outputs": [
    {
     "name": "stdout",
     "output_type": "stream",
     "text": [
      "iq:  43 \n",
      "lim_inf:  -29.5 \n",
      "lim_sup:  142.5\n"
     ]
    }
   ],
   "source": [
    "q1 = 35\n",
    "q3 = 78\n",
    "iq = q3 - q1\n",
    "lim_inf =  q1 - 1.5 * iq\n",
    "lim_sup = q3 + 1.5 * iq\n",
    "\n",
    "print('iq: ', iq, '\\nlim_inf: ', lim_inf, '\\nlim_sup: ', lim_sup)"
   ]
  },
  {
   "cell_type": "code",
   "execution_count": 59,
   "id": "b5d98c57-aeac-42ab-8bea-408033696439",
   "metadata": {},
   "outputs": [
    {
     "data": {
      "text/plain": [
       "Text(0.5, 1.0, 'idade')"
      ]
     },
     "execution_count": 59,
     "metadata": {},
     "output_type": "execute_result"
    },
    {
     "data": {
      "image/png": "[encoded data removed]",
      "text/plain": [
       "<Figure size 640x480 with 1 Axes>"
      ]
     },
     "metadata": {},
     "output_type": "display_data"
    }
   ],
   "source": [
    "srn.histplot(df['idade']).set_title('idade')"
   ]
  },
  {
   "cell_type": "code",
   "execution_count": 60,
   "id": "d5d49c33-ecb0-4cb9-8581-97657250b8a3",
   "metadata": {},
   "outputs": [
    {
     "data": {
      "text/plain": [
       "id           0\n",
       "score        2\n",
       "nivel        2\n",
       "categoria    3\n",
       "idade        3\n",
       "pais         2\n",
       "dtype: int64"
      ]
     },
     "execution_count": 60,
     "metadata": {},
     "output_type": "execute_result"
    }
   ],
   "source": [
    "df.isnull().sum()"
   ]
  },
  {
   "cell_type": "code",
   "execution_count": 62,
   "id": "679d7441-55c8-4683-a3d3-5b87eecac6ef",
   "metadata": {},
   "outputs": [
    {
     "data": {
      "text/plain": [
       "2"
      ]
     },
     "execution_count": 62,
     "metadata": {},
     "output_type": "execute_result"
    }
   ],
   "source": [
    "df['score'].isnull().sum()"
   ]
  },
  {
   "cell_type": "code",
   "execution_count": 63,
   "id": "60167ba8-d018-4323-be97-237a1904114c",
   "metadata": {},
   "outputs": [],
   "source": [
    "df.fillna({'score': 50.000}, inplace = True)"
   ]
  },
  {
   "cell_type": "code",
   "execution_count": 64,
   "id": "f2e74566-2b1c-4e0e-8779-4cf720052874",
   "metadata": {},
   "outputs": [
    {
     "data": {
      "text/plain": [
       "0"
      ]
     },
     "execution_count": 64,
     "metadata": {},
     "output_type": "execute_result"
    }
   ],
   "source": [
    "df['score'].isnull().sum()"
   ]
  },
  {
   "cell_type": "code",
   "execution_count": 65,
   "id": "cb658da9-3463-4b73-8a18-f9f68a74ed92",
   "metadata": {},
   "outputs": [],
   "source": [
    "df.fillna({'nivel':  1000.000000}, inplace = True)"
   ]
  },
  {
   "cell_type": "code",
   "execution_count": 66,
   "id": "8bbe42a5-8800-4b83-a388-9d1b86c80483",
   "metadata": {},
   "outputs": [
    {
     "data": {
      "text/plain": [
       "0"
      ]
     },
     "execution_count": 66,
     "metadata": {},
     "output_type": "execute_result"
    }
   ],
   "source": [
    "df['nivel'].isnull().sum()"
   ]
  },
  {
   "cell_type": "code",
   "execution_count": 67,
   "id": "4ba1639b-f642-4feb-8461-8839043a0e8a",
   "metadata": {},
   "outputs": [],
   "source": [
    "df.fillna({'categoria':  'mago novo'}, inplace = True)"
   ]
  },
  {
   "cell_type": "code",
   "execution_count": 68,
   "id": "7b439d07-da64-48f5-8f53-22d8a5c055e5",
   "metadata": {},
   "outputs": [
    {
     "data": {
      "text/plain": [
       "0"
      ]
     },
     "execution_count": 68,
     "metadata": {},
     "output_type": "execute_result"
    }
   ],
   "source": [
    "df['categoria'].isnull().sum()"
   ]
  },
  {
   "cell_type": "code",
   "execution_count": 69,
   "id": "02d46d2d-ce9d-4b8f-9a12-a0896e9eaf82",
   "metadata": {},
   "outputs": [],
   "source": [
    "df.fillna({'idade': 20.00000}, inplace = True)"
   ]
  },
  {
   "cell_type": "code",
   "execution_count": 70,
   "id": "4cefea97-e105-4611-a30a-8e8b370702ad",
   "metadata": {},
   "outputs": [
    {
     "data": {
      "text/plain": [
       "0"
      ]
     },
     "execution_count": 70,
     "metadata": {},
     "output_type": "execute_result"
    }
   ],
   "source": [
    "df['idade'].isnull().sum()"
   ]
  },
  {
   "cell_type": "code",
   "execution_count": 71,
   "id": "c6520061-9897-4527-9ac2-7b1cf82dbcbb",
   "metadata": {},
   "outputs": [
    {
     "data": {
      "text/plain": [
       "pais\n",
       "%apan               1\n",
       "Australia           7\n",
       "Brazil            289\n",
       "C#nada              1\n",
       "Canada             93\n",
       "Japan             130\n",
       "Mexico             74\n",
       "Portuga&            1\n",
       "Portugal          222\n",
       "Spain              14\n",
       "United Kingdom     16\n",
       "United States     150\n",
       "dtype: int64"
      ]
     },
     "execution_count": 71,
     "metadata": {},
     "output_type": "execute_result"
    }
   ],
   "source": [
    "df.loc[df['pais'] == 'Italy', 'pais'] = 'Brazil'\n",
    "df.groupby(['pais']).size()"
   ]
  },
  {
   "cell_type": "code",
   "execution_count": 73,
   "id": "ee30a677-4e64-49a8-88b8-9d1883172fc3",
   "metadata": {},
   "outputs": [
    {
     "data": {
      "text/plain": [
       "495862.0"
      ]
     },
     "execution_count": 73,
     "metadata": {},
     "output_type": "execute_result"
    }
   ],
   "source": [
    "\n",
    "mediana_score = sts.median(df['score'])\n",
    "mediana_score"
   ]
  },
  {
   "cell_type": "code",
   "execution_count": 74,
   "id": "390f39fe-d284-49a2-8dc8-ebb365d71290",
   "metadata": {},
   "outputs": [
    {
     "data": {
      "text/plain": [
       "284042.6073739286"
      ]
     },
     "execution_count": 74,
     "metadata": {},
     "output_type": "execute_result"
    }
   ],
   "source": [
    "dp = sts.stdev(df['score'])\n",
    "dp"
   ]
  },
  {
   "cell_type": "code",
   "execution_count": 75,
   "id": "2f12d21b-0937-46c6-b2e7-5666e7482095",
   "metadata": {},
   "outputs": [
    {
     "data": {
      "text/html": [
       "<div>\n",
       "<style scoped>\n",
       "    .dataframe tbody tr th:only-of-type {\n",
       "        vertical-align: middle;\n",
       "    }\n",
       "\n",
       "    .dataframe tbody tr th {\n",
       "        vertical-align: top;\n",
       "    }\n",
       "\n",
       "    .dataframe thead th {\n",
       "        text-align: right;\n",
       "    }\n",
       "</style>\n",
       "<table border=\"1\" class=\"dataframe\">\n",
       "  <thead>\n",
       "    <tr style=\"text-align: right;\">\n",
       "      <th></th>\n",
       "      <th>id</th>\n",
       "      <th>score</th>\n",
       "      <th>nivel</th>\n",
       "      <th>categoria</th>\n",
       "      <th>idade</th>\n",
       "      <th>pais</th>\n",
       "    </tr>\n",
       "  </thead>\n",
       "  <tbody>\n",
       "  </tbody>\n",
       "</table>\n",
       "</div>"
      ],
      "text/plain": [
       "Empty DataFrame\n",
       "Columns: [id, score, nivel, categoria, idade, pais]\n",
       "Index: []"
      ]
     },
     "execution_count": 75,
     "metadata": {},
     "output_type": "execute_result"
    }
   ],
   "source": [
    "df.loc[df['score'] >= mediana_score + 2 * dp]"
   ]
  },
  {
   "cell_type": "code",
   "execution_count": 76,
   "id": "2550b05f-8a64-434f-b177-6f1957cb7d97",
   "metadata": {},
   "outputs": [],
   "source": [
    "df.loc[(df['score'] >= mediana_score + 2 * dp), 'score'] = mediana_score"
   ]
  },
  {
   "cell_type": "code",
   "execution_count": 77,
   "id": "da92ac28-cd82-4d78-b786-d48a7fbd3109",
   "metadata": {},
   "outputs": [
    {
     "data": {
      "text/html": [
       "<div>\n",
       "<style scoped>\n",
       "    .dataframe tbody tr th:only-of-type {\n",
       "        vertical-align: middle;\n",
       "    }\n",
       "\n",
       "    .dataframe tbody tr th {\n",
       "        vertical-align: top;\n",
       "    }\n",
       "\n",
       "    .dataframe thead th {\n",
       "        text-align: right;\n",
       "    }\n",
       "</style>\n",
       "<table border=\"1\" class=\"dataframe\">\n",
       "  <thead>\n",
       "    <tr style=\"text-align: right;\">\n",
       "      <th></th>\n",
       "      <th>id</th>\n",
       "      <th>score</th>\n",
       "      <th>nivel</th>\n",
       "      <th>categoria</th>\n",
       "      <th>idade</th>\n",
       "      <th>pais</th>\n",
       "    </tr>\n",
       "  </thead>\n",
       "  <tbody>\n",
       "  </tbody>\n",
       "</table>\n",
       "</div>"
      ],
      "text/plain": [
       "Empty DataFrame\n",
       "Columns: [id, score, nivel, categoria, idade, pais]\n",
       "Index: []"
      ]
     },
     "execution_count": 77,
     "metadata": {},
     "output_type": "execute_result"
    }
   ],
   "source": [
    "df.loc[df['score'] >= mediana_score + 2 * dp]"
   ]
  },
  {
   "cell_type": "code",
   "execution_count": 78,
   "id": "d095a184-1b0b-4376-8cf1-f5e3fa3aa2ad",
   "metadata": {},
   "outputs": [
    {
     "data": {
      "text/plain": [
       "494.5"
      ]
     },
     "execution_count": 78,
     "metadata": {},
     "output_type": "execute_result"
    }
   ],
   "source": [
    "mediana_nivel = sts.median(df['nivel'])\n",
    "mediana_nivel"
   ]
  },
  {
   "cell_type": "code",
   "execution_count": 79,
   "id": "44fdc03c-5972-4db6-b852-fb3ba156ed43",
   "metadata": {},
   "outputs": [
    {
     "data": {
      "text/plain": [
       "288.98885600468213"
      ]
     },
     "execution_count": 79,
     "metadata": {},
     "output_type": "execute_result"
    }
   ],
   "source": [
    "dp = sts.stdev(df['nivel'])\n",
    "dp"
   ]
  },
  {
   "cell_type": "code",
   "execution_count": 80,
   "id": "d553fadb-9835-426a-822b-9ec225733b6b",
   "metadata": {},
   "outputs": [
    {
     "data": {
      "text/html": [
       "<div>\n",
       "<style scoped>\n",
       "    .dataframe tbody tr th:only-of-type {\n",
       "        vertical-align: middle;\n",
       "    }\n",
       "\n",
       "    .dataframe tbody tr th {\n",
       "        vertical-align: top;\n",
       "    }\n",
       "\n",
       "    .dataframe thead th {\n",
       "        text-align: right;\n",
       "    }\n",
       "</style>\n",
       "<table border=\"1\" class=\"dataframe\">\n",
       "  <thead>\n",
       "    <tr style=\"text-align: right;\">\n",
       "      <th></th>\n",
       "      <th>id</th>\n",
       "      <th>score</th>\n",
       "      <th>nivel</th>\n",
       "      <th>categoria</th>\n",
       "      <th>idade</th>\n",
       "      <th>pais</th>\n",
       "    </tr>\n",
       "  </thead>\n",
       "  <tbody>\n",
       "  </tbody>\n",
       "</table>\n",
       "</div>"
      ],
      "text/plain": [
       "Empty DataFrame\n",
       "Columns: [id, score, nivel, categoria, idade, pais]\n",
       "Index: []"
      ]
     },
     "execution_count": 80,
     "metadata": {},
     "output_type": "execute_result"
    }
   ],
   "source": [
    "df.loc[df['nivel'] >= mediana_nivel + 2 * dp]"
   ]
  },
  {
   "cell_type": "code",
   "execution_count": 82,
   "id": "cf436e6a-ef49-4c38-a286-57d6710a7bfc",
   "metadata": {},
   "outputs": [],
   "source": [
    "df.loc[(df['nivel'] >= mediana_nivel + 2 * dp), 'nivel'] = mediana_nivel"
   ]
  },
  {
   "cell_type": "code",
   "execution_count": 83,
   "id": "3d9583b7-3c06-45ef-8c5d-ba2648509050",
   "metadata": {},
   "outputs": [
    {
     "data": {
      "text/html": [
       "<div>\n",
       "<style scoped>\n",
       "    .dataframe tbody tr th:only-of-type {\n",
       "        vertical-align: middle;\n",
       "    }\n",
       "\n",
       "    .dataframe tbody tr th {\n",
       "        vertical-align: top;\n",
       "    }\n",
       "\n",
       "    .dataframe thead th {\n",
       "        text-align: right;\n",
       "    }\n",
       "</style>\n",
       "<table border=\"1\" class=\"dataframe\">\n",
       "  <thead>\n",
       "    <tr style=\"text-align: right;\">\n",
       "      <th></th>\n",
       "      <th>id</th>\n",
       "      <th>score</th>\n",
       "      <th>nivel</th>\n",
       "      <th>categoria</th>\n",
       "      <th>idade</th>\n",
       "      <th>pais</th>\n",
       "    </tr>\n",
       "  </thead>\n",
       "  <tbody>\n",
       "  </tbody>\n",
       "</table>\n",
       "</div>"
      ],
      "text/plain": [
       "Empty DataFrame\n",
       "Columns: [id, score, nivel, categoria, idade, pais]\n",
       "Index: []"
      ]
     },
     "execution_count": 83,
     "metadata": {},
     "output_type": "execute_result"
    }
   ],
   "source": [
    "df.loc[df['nivel'] >= mediana_nivel + 2 * dp]"
   ]
  },
  {
   "cell_type": "code",
   "execution_count": 84,
   "id": "b86e0c46-32eb-41a9-804a-1249378322f5",
   "metadata": {},
   "outputs": [
    {
     "data": {
      "text/plain": [
       "58.0"
      ]
     },
     "execution_count": 84,
     "metadata": {},
     "output_type": "execute_result"
    }
   ],
   "source": [
    "mediana_idade = sts.median(df['idade'])\n",
    "mediana_idade"
   ]
  },
  {
   "cell_type": "code",
   "execution_count": 85,
   "id": "54ae2f50-f17b-4b74-b95e-62d33b78e7bc",
   "metadata": {},
   "outputs": [
    {
     "data": {
      "text/plain": [
       "25.29234585321731"
      ]
     },
     "execution_count": 85,
     "metadata": {},
     "output_type": "execute_result"
    }
   ],
   "source": [
    "dp = sts.stdev(df['idade'])\n",
    "dp"
   ]
  },
  {
   "cell_type": "code",
   "execution_count": 86,
   "id": "fb0f1a98-3384-417b-94bb-605baa90d627",
   "metadata": {},
   "outputs": [
    {
     "data": {
      "text/html": [
       "<div>\n",
       "<style scoped>\n",
       "    .dataframe tbody tr th:only-of-type {\n",
       "        vertical-align: middle;\n",
       "    }\n",
       "\n",
       "    .dataframe tbody tr th {\n",
       "        vertical-align: top;\n",
       "    }\n",
       "\n",
       "    .dataframe thead th {\n",
       "        text-align: right;\n",
       "    }\n",
       "</style>\n",
       "<table border=\"1\" class=\"dataframe\">\n",
       "  <thead>\n",
       "    <tr style=\"text-align: right;\">\n",
       "      <th></th>\n",
       "      <th>id</th>\n",
       "      <th>score</th>\n",
       "      <th>nivel</th>\n",
       "      <th>categoria</th>\n",
       "      <th>idade</th>\n",
       "      <th>pais</th>\n",
       "    </tr>\n",
       "  </thead>\n",
       "  <tbody>\n",
       "    <tr>\n",
       "      <th>12</th>\n",
       "      <td>13</td>\n",
       "      <td>574085.0</td>\n",
       "      <td>787.0</td>\n",
       "      <td>mago</td>\n",
       "      <td>133.0</td>\n",
       "      <td>Canada</td>\n",
       "    </tr>\n",
       "    <tr>\n",
       "      <th>448</th>\n",
       "      <td>449</td>\n",
       "      <td>890953.0</td>\n",
       "      <td>47.0</td>\n",
       "      <td>elfo</td>\n",
       "      <td>125.0</td>\n",
       "      <td>Canada</td>\n",
       "    </tr>\n",
       "  </tbody>\n",
       "</table>\n",
       "</div>"
      ],
      "text/plain": [
       "      id     score  nivel categoria  idade    pais\n",
       "12    13  574085.0  787.0      mago  133.0  Canada\n",
       "448  449  890953.0   47.0      elfo  125.0  Canada"
      ]
     },
     "execution_count": 86,
     "metadata": {},
     "output_type": "execute_result"
    }
   ],
   "source": [
    "df.loc[df['idade'] >= mediana_idade + 2 * dp]"
   ]
  },
  {
   "cell_type": "code",
   "execution_count": 96,
   "id": "3d56bdcc-d9b1-4f21-95ca-abc598adb47e",
   "metadata": {},
   "outputs": [],
   "source": [
    "df.loc[(df['idade'] >= mediana_idade + 2 * dp), 'idade'] = mediana_idade"
   ]
  },
  {
   "cell_type": "code",
   "execution_count": 97,
   "id": "428abdbb-b343-42b6-bf49-4890fc3020eb",
   "metadata": {},
   "outputs": [
    {
     "data": {
      "text/html": [
       "<div>\n",
       "<style scoped>\n",
       "    .dataframe tbody tr th:only-of-type {\n",
       "        vertical-align: middle;\n",
       "    }\n",
       "\n",
       "    .dataframe tbody tr th {\n",
       "        vertical-align: top;\n",
       "    }\n",
       "\n",
       "    .dataframe thead th {\n",
       "        text-align: right;\n",
       "    }\n",
       "</style>\n",
       "<table border=\"1\" class=\"dataframe\">\n",
       "  <thead>\n",
       "    <tr style=\"text-align: right;\">\n",
       "      <th></th>\n",
       "      <th>id</th>\n",
       "      <th>score</th>\n",
       "      <th>nivel</th>\n",
       "      <th>categoria</th>\n",
       "      <th>idade</th>\n",
       "      <th>pais</th>\n",
       "      <th>500.0</th>\n",
       "    </tr>\n",
       "  </thead>\n",
       "  <tbody>\n",
       "  </tbody>\n",
       "</table>\n",
       "</div>"
      ],
      "text/plain": [
       "Empty DataFrame\n",
       "Columns: [id, score, nivel, categoria, idade, pais, 500.0]\n",
       "Index: []"
      ]
     },
     "execution_count": 97,
     "metadata": {},
     "output_type": "execute_result"
    }
   ],
   "source": [
    "df.loc[df['idade'] >= mediana_idade + 2 * dp]"
   ]
  },
  {
   "cell_type": "code",
   "execution_count": null,
   "id": "ae861125-f9da-4ced-8098-68c02f411a6a",
   "metadata": {},
   "outputs": [],
   "source": []
  }
 ],
 "metadata": {
  "kernelspec": {
   "display_name": "Python 3 (ipykernel)",
   "language": "python",
   "name": "python3"
  },
  "language_info": {
   "codemirror_mode": {
    "name": "ipython",
    "version": 3
   },
   "file_extension": ".py",
   "mimetype": "text/x-python",
   "name": "python",
   "nbconvert_exporter": "python",
   "pygments_lexer": "ipython3",
   "version": "3.12.7"
  }
 },
 "nbformat": 4,
 "nbformat_minor": 5
}
